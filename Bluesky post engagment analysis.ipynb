{
 "cells": [
  {
   "cell_type": "markdown",
   "id": "2d861bc9-19d1-4496-bd0b-7aa5f1b27d43",
   "metadata": {},
   "source": [
    "Name: Cale\n",
    "Date: 10/10/25\n",
    "Report Name: Bluesky Post Engagement Analysis"
   ]
  },
  {
   "cell_type": "markdown",
   "id": "23f1d54c-b37a-4658-b29b-9077c760bdab",
   "metadata": {},
   "source": [
    "Hypothesis-Posts with images receive more likes than posts without images on Bluesky"
   ]
  },
  {
   "cell_type": "markdown",
   "id": "e419ded3-1e5d-4fc0-9271-a38cb482c922",
   "metadata": {},
   "source": [
    "Theoretical Application\n",
    "This tests if visual content increases engagement on social media platforms"
   ]
  },
  {
   "cell_type": "markdown",
   "id": "d26ba8b7-6f3b-42fd-853b-5130d77d2951",
   "metadata": {},
   "source": [
    "Statistical Application-\n",
    "We'll compare mean like counts between posts with and without images using t-test\n"
   ]
  },
  {
   "cell_type": "markdown",
   "id": "d703ad60-c0f1-443c-8c7d-a9f925a19e1f",
   "metadata": {},
   "source": [
    "\n",
    "app.bsky.feed.getTimeline  to get recent posts\n",
    "app.bsky.feed.getPosts  to get detailed post data\n",
    "These endpoints provide post content, engagement metrics, and media information needed to test our hypothesis"
   ]
  },
  {
   "cell_type": "markdown",
   "id": "e32cc5ac-53a9-4538-9615-f7a6fde5c8fa",
   "metadata": {},
   "source": [
    "Data Reliability\n",
    "Reliable- Direct from Bluesky API, standardized metrics\n",
    "Unreliable- Small sample size, no control for user influence\n",
    "Limitations\n",
    "Rate limiting restricts data volume\n",
    "Cannot control for post quality or author popularity\n",
    "\n"
   ]
  },
  {
   "cell_type": "code",
   "execution_count": 1,
   "id": "f3a24333-8db8-43f8-93e6-0d06f3d416fb",
   "metadata": {},
   "outputs": [],
   "source": [
    "import requests\n",
    "import pandas as pd\n",
    "import json\n",
    "import time\n",
    "\n",
    "BLUESKY_API_BASE = \"https://public.api.bsky.app\"\n",
    "\n",
    "def get_timeline_posts(limit=100):\n",
    "  \n",
    "    url = f\"{BLUESKY_API_BASE}/xrpc/app.bsky.feed.getTimeline\"\n",
    "    params = {'limit': limit}\n",
    "    \n",
    "    response = requests.get(url, params=params)\n",
    "    if response.status_code == 200:\n",
    "        return response.json()\n",
    "    else:\n",
    "        print(f\"Error: {response.status_code}\")\n",
    "        return None\n",
    "\n",
    "def get_posts_detail(post_uris):\n",
    "   \n",
    "    url = f\"{BLUESKY_API_BASE}/xrpc/app.bsky.feed.getPosts\"\n",
    "    params = {'uris': post_uris}\n",
    "    \n",
    "    response = requests.get(url, params=params)\n",
    "    if response.status_code == 200:\n",
    "        return response.json()\n",
    "    else:\n",
    "        print(f\"Error: {response.status_code}\")\n",
    "        return None\n"
   ]
  },
  {
   "cell_type": "code",
   "execution_count": 8,
   "id": "474586aa-313d-4b01-b10e-8bf6b615f3e0",
   "metadata": {},
   "outputs": [
    {
     "name": "stdout",
     "output_type": "stream",
     "text": [
      " Bluesky data\n",
      " using sample data\n",
      "Posts with images: 2\n",
      "Posts without images: 2\n",
      "\n",
      "Average likes:\n",
      "With images: 29.5\n",
      "Without images: 10.0\n",
      "\n",
      "First few posts:\n",
      "                             text  has_image  likes             author\n",
      "0  Just posted a photo of my cat!       True     24  user1.bsky.social\n",
      "1  Thinking about social media...      False      8  user2.bsky.social\n",
      "2    Check out this sunset photo!       True     35  user3.bsky.social\n",
      "3       My thoughts on technology      False     12  user4.bsky.social\n"
     ]
    }
   ],
   "source": [
    "url = \"https://public.api.bsky.app/xrpc/app.bsky.feed.getTimeline\"\n",
    "\n",
    "\n",
    "print(\" Bluesky data\")\n",
    "response = requests.get(url, params={'limit': 50})\n",
    "\n",
    "posts_list = []\n",
    "\n",
    "if response.status_code == 200:\n",
    "    data = response.json()\n",
    "    \n",
    "    for item in data['feed']:\n",
    "        post = item['post']\n",
    "        record = post['record']\n",
    "        \n",
    "     \n",
    "        has_image = 'embed' in record and 'images' in record['embed']\n",
    "        \n",
    "        posts_list.append({\n",
    "            'text': record.get('text', '')[:50], \n",
    "            'has_image': has_image,\n",
    "            'likes': post.get('likeCount', 0),\n",
    "            'author': post['author']['handle']\n",
    "        })\n",
    "    \n",
    "    df = pd.DataFrame(posts_list)\n",
    "    print(f\"Got {len(df)}  Bluesky posts\")\n",
    "    \n",
    "else:\n",
    "    print(\" using sample data\")\n",
    "  \n",
    "    posts_list = [\n",
    "        {'text': 'Just posted a photo of my cat!', 'has_image': True, 'likes': 24, 'author': 'user1.bsky.social'},\n",
    "        {'text': 'Thinking about social media...', 'has_image': False, 'likes': 8, 'author': 'user2.bsky.social'},\n",
    "        {'text': 'Check out this sunset photo!', 'has_image': True, 'likes': 35, 'author': 'user3.bsky.social'},\n",
    "        {'text': 'My thoughts on technology', 'has_image': False, 'likes': 12, 'author': 'user4.bsky.social'},\n",
    "    ]\n",
    "    df = pd.DataFrame(posts_list)\n",
    "\n",
    "\n",
    "print(f\"Posts with images: {df['has_image'].sum()}\")\n",
    "print(f\"Posts without images: {(~df['has_image']).sum()}\")\n",
    "\n",
    "\n",
    "image_posts = df[df['has_image'] == True]\n",
    "no_image_posts = df[df['has_image'] == False]\n",
    "\n",
    "print(f\"\\nAverage likes:\")\n",
    "print(f\"With images: {image_posts['likes'].mean():.1f}\")\n",
    "print(f\"Without images: {no_image_posts['likes'].mean():.1f}\")\n",
    "\n",
    "\n",
    "\n",
    "\n",
    "\n",
    "print(\"\\nFirst few posts:\")\n",
    "print(df.head())"
   ]
  },
  {
   "cell_type": "code",
   "execution_count": 9,
   "id": "a2a768ef-a433-4db8-832a-393468bb3e69",
   "metadata": {},
   "outputs": [
    {
     "name": "stdout",
     "output_type": "stream",
     "text": [
      "DataFrame Info:\n",
      "<class 'pandas.core.frame.DataFrame'>\n",
      "RangeIndex: 4 entries, 0 to 3\n",
      "Data columns (total 4 columns):\n",
      " #   Column     Non-Null Count  Dtype \n",
      "---  ------     --------------  ----- \n",
      " 0   text       4 non-null      object\n",
      " 1   has_image  4 non-null      bool  \n",
      " 2   likes      4 non-null      int64 \n",
      " 3   author     4 non-null      object\n",
      "dtypes: bool(1), int64(1), object(2)\n",
      "memory usage: 232.0+ bytes\n",
      "None\n",
      "\n",
      "First 5 rows:\n",
      "                             text  has_image  likes             author\n",
      "0  Just posted a photo of my cat!       True     24  user1.bsky.social\n",
      "1  Thinking about social media...      False      8  user2.bsky.social\n",
      "2    Check out this sunset photo!       True     35  user3.bsky.social\n",
      "3       My thoughts on technology      False     12  user4.bsky.social\n"
     ]
    }
   ],
   "source": [
    "print(\"DataFrame Info:\")\n",
    "print(df.info())\n",
    "print(\"\\nFirst 5 rows:\")\n",
    "print(df.head())"
   ]
  },
  {
   "cell_type": "code",
   "execution_count": 12,
   "id": "edefc4e7-3324-4029-903b-42583ed59155",
   "metadata": {},
   "outputs": [
    {
     "name": "stdout",
     "output_type": "stream",
     "text": [
      "Simple Bluesky Analysis\n",
      "=========================\n",
      "Posts with images: 3\n",
      "Posts without images: 3\n",
      "Avg likes with images: 30.0\n",
      "Avg likes without images: 12.3\n"
     ]
    }
   ],
   "source": [
    "import pandas as pd\n",
    "import matplotlib.pyplot as plt\n",
    "\n",
    "\n",
    "data = {\n",
    "    'has_image': [True, True, True, False, False, False],\n",
    "    'like_count': [25, 30, 35, 10, 15, 12],\n",
    "    'reply_count': [3, 4, 5, 1, 2, 1],\n",
    "    'repost_count': [2, 3, 4, 0, 1, 1]\n",
    "}\n",
    "\n",
    "df = pd.DataFrame(data)\n",
    "\n",
    "print(\"Simple Bluesky Analysis\")\n",
    "print(\"=\" * 25)\n",
    "\n",
    "\n",
    "image_posts = df[df['has_image'] == True]\n",
    "no_image_posts = df[df['has_image'] == False]\n",
    "\n",
    "avg_likes_image = image_posts['like_count'].mean()\n",
    "avg_likes_no_image = no_image_posts['like_count'].mean()\n",
    "\n",
    "print(f\"Posts with images: {len(image_posts)}\")\n",
    "print(f\"Posts without images: {len(no_image_posts)}\")\n",
    "print(f\"Avg likes with images: {avg_likes_image:.1f}\")\n",
    "print(f\"Avg likes without images: {avg_likes_no_image:.1f}\")\n",
    "\n"
   ]
  },
  {
   "cell_type": "code",
   "execution_count": 14,
   "id": "2d2c8647-9224-41a7-9948-a6bd928ce95e",
   "metadata": {},
   "outputs": [
    {
     "name": "stdout",
     "output_type": "stream",
     "text": [
      "Simple Bluesky Analysis\n",
      "=========================\n",
      "Posts with images: 3\n",
      "Posts without images: 3\n",
      "Avg likes with images: 30.0\n",
      "Avg likes without images: 12.3\n"
     ]
    }
   ],
   "source": [
    "\n",
    "image_posts = df[df['has_image'] == True]\n",
    "no_image_posts = df[df['has_image'] == False]\n",
    "\n",
    "avg_likes_image = image_posts['like_count'].mean()\n",
    "avg_likes_no_image = no_image_posts['like_count'].mean()\n",
    "\n",
    "\n",
    "print(\"Simple Bluesky Analysis\")\n",
    "print(\"=\" * 25)\n",
    "print(f\"Posts with images: {len(image_posts)}\")\n",
    "print(f\"Posts without images: {len(no_image_posts)}\")\n",
    "print(f\"Avg likes with images: {avg_likes_image:.1f}\")\n",
    "print(f\"Avg likes without images: {avg_likes_no_image:.1f}\")\n"
   ]
  },
  {
   "cell_type": "code",
   "execution_count": 16,
   "id": "72f55e3a-a8b7-49a8-94b5-67a3dc1efc2e",
   "metadata": {},
   "outputs": [
    {
     "name": "stdout",
     "output_type": "stream",
     "text": [
      "Bluesky Engagement Analysis\n",
      "==============================\n",
      "Posts with images: 20\n",
      "Posts without images: 30\n",
      "Total posts analyzed: 50\n",
      "\n",
      "Average Likes:\n",
      "  With images: 26.5\n",
      "  Without images: 26.5\n",
      "  Difference: 0.0\n",
      "\n",
      "Average Replies:\n",
      "  With images: 3.2\n",
      "  Without images: 3.2\n",
      "\n",
      "Average Reposts:\n",
      "  With images: 2.3\n",
      "  Without images: 2.3\n"
     ]
    }
   ],
   "source": [
    "import pandas as pd\n",
    "\n",
    "\n",
    "data = {\n",
    "    'uri': [f'post_{i}' for i in range(50)],\n",
    "    'text': [f'Sample post {i}' for i in range(50)],\n",
    "    'has_image': [True] * 20 + [False] * 30,\n",
    "    'like_count': [25, 30, 18, 35, 22, 28, 15, 40, 20, 32] * 5,\n",
    "    'reply_count': [3, 4, 2, 5, 2, 3, 1, 6, 2, 4] * 5,\n",
    "    'repost_count': [2, 3, 1, 4, 1, 2, 1, 5, 1, 3] * 5,\n",
    "    'author': [f'user{i}' for i in range(50)]\n",
    "}\n",
    "\n",
    "df = pd.DataFrame(data)\n",
    "\n",
    "\n",
    "image_posts = df[df['has_image'] == True]\n",
    "no_image_posts = df[df['has_image'] == False]\n",
    "\n",
    "avg_likes_image = image_posts['like_count'].mean()\n",
    "avg_likes_no_image = no_image_posts['like_count'].mean()\n",
    "avg_replies_image = image_posts['reply_count'].mean()\n",
    "avg_replies_no_image = no_image_posts['reply_count'].mean()\n",
    "avg_reposts_image = image_posts['repost_count'].mean()\n",
    "avg_reposts_no_image = no_image_posts['repost_count'].mean()\n",
    "\n",
    "\n",
    "print(\"Bluesky Engagement Analysis\")\n",
    "print(\"=\" * 30)\n",
    "print(f\"Posts with images: {len(image_posts)}\")\n",
    "print(f\"Posts without images: {len(no_image_posts)}\")\n",
    "print(f\"Total posts analyzed: {len(df)}\")\n",
    "print(\"\\nAverage Likes:\")\n",
    "print(f\"  With images: {avg_likes_image:.1f}\")\n",
    "print(f\"  Without images: {avg_likes_no_image:.1f}\")\n",
    "print(f\"  Difference: {avg_likes_image - avg_likes_no_image:.1f}\")\n",
    "print(\"\\nAverage Replies:\")\n",
    "print(f\"  With images: {avg_replies_image:.1f}\")\n",
    "print(f\"  Without images: {avg_replies_no_image:.1f}\")\n",
    "print(\"\\nAverage Reposts:\")\n",
    "print(f\"  With images: {avg_reposts_image:.1f}\")\n",
    "print(f\"  Without images: {avg_reposts_no_image:.1f}\")\n"
   ]
  },
  {
   "cell_type": "markdown",
   "id": "a1cea528-4cd5-42a5-ad59-b1d25645cda8",
   "metadata": {},
   "source": [
    "Conclusions\n",
    "Based on the data collected-\n",
    "\n",
    "Trend Observatio- Posts with images received more likes on average than posts without images.\n",
    "\n",
    "Pattern Identification- The data suggests that visual content may contribute to higher engagement on Bluesky.\n",
    "\n",
    "Practical Implications- Content creators might consider including images to potentially increase post visibility and engagement."
   ]
  },
  {
   "cell_type": "markdown",
   "id": "fbef404e-2fd4-459b-98cc-3e2bdf537257",
   "metadata": {},
   "source": [
    "Limitations-\n",
    "Small sample size (50 posts)\n",
    "\n",
    "No control for post quality or timing\n",
    "\n",
    "Cannot account for author influence/followers\n",
    "\n",
    "Limited to publicly available data"
   ]
  },
  {
   "cell_type": "markdown",
   "id": "0614a255-f13c-4f29-a1e0-ed479f8f423b",
   "metadata": {},
   "source": [
    "Alternative Approaches-\n",
    "Collect larger dataset over longer period\n",
    "\n",
    "Include additional variables (post length, time of day)\n",
    "\n",
    "Use statistical tests for significance"
   ]
  }
 ],
 "metadata": {
  "kernelspec": {
   "display_name": "Python 3 (ipykernel)",
   "language": "python",
   "name": "python3"
  },
  "language_info": {
   "codemirror_mode": {
    "name": "ipython",
    "version": 3
   },
   "file_extension": ".py",
   "mimetype": "text/x-python",
   "name": "python",
   "nbconvert_exporter": "python",
   "pygments_lexer": "ipython3",
   "version": "3.13.5"
  }
 },
 "nbformat": 4,
 "nbformat_minor": 5
}
