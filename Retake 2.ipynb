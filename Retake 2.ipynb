{
 "cells": [
  {
   "cell_type": "markdown",
   "id": "660d7254-bebc-4d9a-b573-a906566daa3a",
   "metadata": {},
   "source": [
    "Name: Cale Date: 10/26/25 Report Name: Bluesky Post Engagement Analysis retake\n",
    "\n",
    "API Endpoints Used:\n",
    "app.bsky.feed.getAuthorFeed - To retrieve posts from specific users\n",
    "\n",
    "These endpoints provide post content, engagement metrics, and media information needed to test our hypothesis\n",
    "\n",
    "Hypothesis-Posts with images receive more likes than posts without images on Bluesky\n",
    "\n",
    "Theoretical Application This tests if visual content increases engagement on social media platforms\n",
    "\n",
    "Statistical Application- We'll compare mean like counts between posts with and without images \n",
    "\n",
    "Data Reliability Reliable- Direct from Bluesky API, standardized metrics Unreliable- Small sample size, no control for user influence Limitations Rate limiting restricts data volume Cannot control for post quality or author popularity"
   ]
  },
  {
   "cell_type": "code",
   "execution_count": 1,
   "id": "1a4d2a57-e9b0-4672-bf6b-a8408a778fde",
   "metadata": {},
   "outputs": [
    {
     "name": "stdout",
     "output_type": "stream",
     "text": [
      "Collected 253 posts\n"
     ]
    }
   ],
   "source": [
    "import requests, time\n",
    "import pandas as pd\n",
    "import matplotlib.pyplot as plt\n",
    "\n",
    "BASE = \"https://public.api.bsky.app\" \n",
    "HDRS = {\"Accept\": \"application/json\", \"User-Agent\": \"EMAT-Notebook/1.0\"}\n",
    "\n",
    "handles = [\n",
    "    \"zoewatsonartist.bsky.social\",\n",
    "    \"ronmac11.bsky.social\", \n",
    "    \"findanopening.bsky.social\",\n",
    "]\n",
    "\n",
    "feed_items = []\n",
    "\n",
    "for handle in handles:\n",
    "    cursor = None\n",
    "    for page in range(3):\n",
    "        params = {\"actor\": handle, \"limit\": 60}\n",
    "        if cursor:\n",
    "            params[\"cursor\"] = cursor\n",
    "            \n",
    "        response = requests.get(\n",
    "            f\"{BASE}/xrpc/app.bsky.feed.getAuthorFeed\",\n",
    "            params=params, \n",
    "            headers=HDRS, \n",
    "            timeout=30\n",
    "        )\n",
    "        data = response.json()\n",
    "        feed_items.extend(data.get(\"feed\", []))\n",
    "        cursor = data.get(\"cursor\")\n",
    "        if not cursor:\n",
    "            break\n",
    "        time.sleep(0.2)\n",
    "\n",
    "print(f\"Collected {len(feed_items)} posts\")"
   ]
  },
  {
   "cell_type": "code",
   "execution_count": 3,
   "id": "d0c1b3c3-3d5c-4752-b1cf-5899f4d9dd36",
   "metadata": {},
   "outputs": [
    {
     "name": "stdout",
     "output_type": "stream",
     "text": [
      "Total posts: 253\n",
      "Posts with images: 205\n",
      "Posts without images: 48\n"
     ]
    }
   ],
   "source": [
    "\n",
    "posts_data = []\n",
    "\n",
    "for item in feed_items:\n",
    "    post = item.get('post', {})\n",
    "    record = post.get('record', {})\n",
    "    \n",
    "    # Check if post has images\n",
    "    has_images = False\n",
    "    embed = record.get('embed', {})\n",
    "    if embed and 'images' in embed:\n",
    "        has_images = len(embed['images']) > 0\n",
    "    \n",
    "    posts_data.append({\n",
    "        'author': post.get('author', {}).get('handle', ''),\n",
    "        'text_length': len(record.get('text', '')),\n",
    "        'like_count': post.get('likeCount', 0),\n",
    "        'repost_count': post.get('repostCount', 0),\n",
    "        'has_images': has_images\n",
    "    })\n",
    "\n",
    "# Create DataFrame\n",
    "df = pd.DataFrame(posts_data)\n",
    "print(f\"Total posts: {len(df)}\")\n",
    "print(f\"Posts with images: {df['has_images'].sum()}\")\n",
    "print(f\"Posts without images: {(~df['has_images']).sum()}\")"
   ]
  },
  {
   "cell_type": "code",
   "execution_count": 4,
   "id": "b187c1ab-488b-48e6-8e43-7a0f3e18b3b0",
   "metadata": {},
   "outputs": [
    {
     "name": "stdout",
     "output_type": "stream",
     "text": [
      "Average likes - Posts WITH images: 652.9\n",
      "Average likes - Posts WITHOUT images: 18.5\n",
      "Difference: 634.4 likes\n"
     ]
    },
    {
     "data": {
      "image/png": "[encoded data removed]",
      "text/plain": [
       "<Figure size 800x500 with 1 Axes>"
      ]
     },
     "metadata": {},
     "output_type": "display_data"
    }
   ],
   "source": [
    "\n",
    "image_likes = df[df['has_images']]['like_count'].mean()\n",
    "no_image_likes = df[~df['has_images']]['like_count'].mean()\n",
    "\n",
    "print(f\"Average likes - Posts WITH images: {image_likes:.1f}\")\n",
    "print(f\"Average likes - Posts WITHOUT images: {no_image_likes:.1f}\")\n",
    "print(f\"Difference: {image_likes - no_image_likes:.1f} likes\")\n",
    "\n",
    "\n",
    "plt.figure(figsize=(8, 5))\n",
    "plt.bar(['No Images', 'With Images'], [no_image_likes, image_likes], \n",
    "        color=['lightblue', 'lightcoral'])\n",
    "plt.title('Average Likes: Images vs No Images')\n",
    "plt.ylabel('Average Like Count')\n",
    "plt.show()"
   ]
  },
  {
   "cell_type": "code",
   "execution_count": 5,
   "id": "a3c8018a-129f-4c85-86d3-fdf1c246dd65",
   "metadata": {},
   "outputs": [
    {
     "name": "stdout",
     "output_type": "stream",
     "text": [
      "\n",
      "Summary Statistics:\n",
      "           like_count              \n",
      "                count   mean median\n",
      "has_images                         \n",
      "False              48   18.5    1.0\n",
      "True              205  652.9  109.0\n"
     ]
    }
   ],
   "source": [
    "summary = df.groupby('has_images').agg({\n",
    "    'like_count': ['count', 'mean', 'median']\n",
    "}).round(1)\n",
    "\n",
    "print(\"\\nSummary Statistics:\")\n",
    "print(summary)"
   ]
  },
  {
   "cell_type": "markdown",
   "id": "dea1566a-b852-47ae-bfee-1358b8b352df",
   "metadata": {},
   "source": [
    "Conclusion\n",
    "Based on the data from 3 Bluesky users:\n",
    "Posts with images averaged 652.9 likes\n",
    "Posts without images averaged 18.5 likes\n",
    "This shows that images do increase engagement\n",
    "\n",
    "Limitations\n",
    "Small sample size (only 3 users)\n",
    "Can't control for post quality\n",
    "Different users have different posting styles"
   ]
  }
 ],
 "metadata": {
  "kernelspec": {
   "display_name": "Python 3 (ipykernel)",
   "language": "python",
   "name": "python3"
  },
  "language_info": {
   "codemirror_mode": {
    "name": "ipython",
    "version": 3
   },
   "file_extension": ".py",
   "mimetype": "text/x-python",
   "name": "python",
   "nbconvert_exporter": "python",
   "pygments_lexer": "ipython3",
   "version": "3.13.5"
  }
 },
 "nbformat": 4,
 "nbformat_minor": 5
}
