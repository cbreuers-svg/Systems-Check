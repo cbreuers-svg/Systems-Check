{
 "cells": [
  {
   "cell_type": "markdown",
   "id": "2f26f6d2-34ae-4572-9b59-45b176cbb665",
   "metadata": {},
   "source": [
    "# i hope to get a good grade in this class"
   ]
  },
  {
   "cell_type": "markdown",
   "id": "2bc3ade4-f6f7-484d-a2c6-5f161cadd963",
   "metadata": {},
   "source": [
    "## hopefully a B or something in this class"
   ]
  },
  {
   "cell_type": "markdown",
   "id": "d0b9b21b-01e8-472d-a329-239467d4e778",
   "metadata": {},
   "source": [
    "### i don't have alot of expectations "
   ]
  },
  {
   "cell_type": "markdown",
   "id": "6e09d84f-04b8-4d28-b740-408632e72a1d",
   "metadata": {},
   "source": [
    "1. james madison\n",
    "2. another name\n",
    "3. a third name"
   ]
  },
  {
   "cell_type": "markdown",
   "id": "dd27f6b6-f635-470d-8857-8aa8c1928160",
   "metadata": {},
   "source": [
    "**im not really sure**"
   ]
  },
  {
   "cell_type": "markdown",
   "id": "66cff549-e852-46d6-8226-66819c8155e7",
   "metadata": {},
   "source": [
    "_i wanna learn some cool code stuff_"
   ]
  },
  {
   "cell_type": "markdown",
   "id": "4cb9e712-1f85-43de-94af-2d9f97539bae",
   "metadata": {},
   "source": [
    "![Screenshot of a comment on a GitHub issue showing an image, added in the Markdown, of an Octocat smiling and raising a tentacle.](https://myoctocat.com/assets/images/base-octocat.svg)"
   ]
  },
  {
   "cell_type": "code",
   "execution_count": null,
   "id": "534f1b60-e274-4490-b5db-a8b643b952b2",
   "metadata": {},
   "outputs": [],
   "source": []
  }
 ],
 "metadata": {
  "kernelspec": {
   "display_name": "Python 3 (ipykernel)",
   "language": "python",
   "name": "python3"
  },
  "language_info": {
   "codemirror_mode": {
    "name": "ipython",
    "version": 3
   },
   "file_extension": ".py",
   "mimetype": "text/x-python",
   "name": "python",
   "nbconvert_exporter": "python",
   "pygments_lexer": "ipython3",
   "version": "3.12.11"
  }
 },
 "nbformat": 4,
 "nbformat_minor": 5
}
