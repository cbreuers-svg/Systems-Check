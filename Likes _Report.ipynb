{
 "cells": [
  {
   "cell_type": "markdown",
   "id": "88cb2f37-492e-490b-bb50-5d9c16fa2ad4",
   "metadata": {},
   "source": [
    "# Likes Report"
   ]
  },
  {
   "cell_type": "markdown",
   "id": "72baf430-cce7-446c-a900-b2cf238bd9fe",
   "metadata": {},
   "source": [
    "### im using your data Sandeep More, thanks for letting use it pretty cool of you i delated my insta like the day we started using it"
   ]
  },
  {
   "cell_type": "markdown",
   "id": "23a4c502-ab9b-4ab3-936e-82b3791b4181",
   "metadata": {},
   "source": [
    "### This data was created automatically when Sandeep More used Instagram's like button. Instagram keeps this information to:\n",
    "\n",
    "Make the app more personalized for him\n",
    "\n",
    "Show him better recommendations\n",
    "\n",
    "Display ads he might like\n",
    "\n",
    "The data helps understand:\n",
    "\n",
    "What types of posts he likes\n",
    "\n",
    "When he's most active on Instagram\n",
    "\n",
    "His preferences and habits on the app"
   ]
  },
  {
   "cell_type": "markdown",
   "id": "d6435cb6-503f-4241-9874-11ca6bcefc90",
   "metadata": {},
   "source": [
    "### The data is probably reliable because\n",
    "\n",
    "### It is collected automatically by Instagram's systems without manual intervention\n",
    "\n",
    "### It represents actual timestamped interactions\n",
    "\n",
    "### The platform has commercial incentives to maintain accurate engagement data\n",
    "\n",
    "### The structured JSON format ensures consistency in data, at least i think\n",
    "\n"
   ]
  },
  {
   "cell_type": "markdown",
   "id": "756b1d22-13cf-4a6b-a9f0-cf3a12b62528",
   "metadata": {},
   "source": [
    "### In what ways may this data be unreliable?\n",
    "\n",
    "### Possible data aggregation or sampling by Instagram before export\n",
    "\n",
    "### Missing data from deleted posts or accounts or private stuff\n",
    "\n",
    "### Inconsistencies in timestamp timezone representations\n",
    "\n",
    "### Potential changes in data structure over time as Instagram updates its platform\n",
    "\n",
    "### Lack of context about why certain content was engaged with\n",
    "\n"
   ]
  },
  {
   "cell_type": "code",
   "execution_count": 8,
   "id": "df60c923-812d-4db9-a439-466e8829be24",
   "metadata": {},
   "outputs": [],
   "source": [
    "import pandas as pd\n",
    "import json\n",
    "import matplotlib.pyplot as plt\n",
    "import seaborn as sns\n",
    "with open('/Users/cale/Downloads/liked_posts-1.json') as file:\n",
    "    likes_data = json.load(file)"
   ]
  },
  {
   "cell_type": "code",
   "execution_count": 7,
   "id": "6bb83ada-61c3-439f-bc9f-af673160fd7d",
   "metadata": {},
   "outputs": [
    {
     "name": "stdout",
     "output_type": "stream",
     "text": [
      "Top-level keys: dict_keys(['likes_media_likes'])\n"
     ]
    }
   ],
   "source": [
    "print(\"Top-level keys:\", likes_data.keys())"
   ]
  },
  {
   "cell_type": "code",
   "execution_count": 8,
   "id": "1ca29fb6-24c6-4c33-8e5f-0bc14195722b",
   "metadata": {},
   "outputs": [
    {
     "name": "stdout",
     "output_type": "stream",
     "text": [
      "Number of liked posts: 14\n"
     ]
    }
   ],
   "source": [
    "media_likes = likes_data.get('likes_media_likes', [])\n",
    "print(\"Number of liked posts:\", len(media_likes))"
   ]
  },
  {
   "cell_type": "code",
   "execution_count": 9,
   "id": "df210d01-2fa0-49e2-ab86-f60c7c2c175b",
   "metadata": {},
   "outputs": [
    {
     "name": "stdout",
     "output_type": "stream",
     "text": [
      "First item structure: dict_keys(['title', 'string_list_data'])\n",
      "First item: {'title': 'philzphotos', 'string_list_data': [{'href': 'https://www.instagram.com/p/DNbPB16uDhg/', 'value': 'ð\\x9f\\x91\\x8d', 'timestamp': 1755861630}]}\n"
     ]
    }
   ],
   "source": [
    "if len(media_likes) > 0:\n",
    "    print(\"First item structure:\", media_likes[0].keys())\n",
    "    print(\"First item:\", media_likes[0])"
   ]
  },
  {
   "cell_type": "code",
   "execution_count": 18,
   "id": "d7a90923-abe9-46c6-b775-bcbed85c784d",
   "metadata": {},
   "outputs": [
    {
     "name": "stdout",
     "output_type": "stream",
     "text": [
      "DataFrame shape: (14, 5)\n",
      "DataFrame columns: Index(['title', 'timestamp', 'href', 'value', 'timestamp_dt'], dtype='object')\n",
      "\n",
      "First few rows:\n",
      "            title   timestamp                                         href  \\\n",
      "0     philzphotos  1755861630     https://www.instagram.com/p/DNbPB16uDhg/   \n",
      "1  weave_n_wonder  1755861571  https://www.instagram.com/reel/DNp7wMTN6jP/   \n",
      "2  weave_n_wonder  1755861568  https://www.instagram.com/reel/DNoJNtQBV-W/   \n",
      "3     philzphotos  1755173316     https://www.instagram.com/p/DNQjPMYOE8s/   \n",
      "4  weave_n_wonder  1753462673     https://www.instagram.com/p/DMiZKYtMasb/   \n",
      "\n",
      "  value        timestamp_dt  \n",
      "0  ð 2025-08-22 11:20:30  \n",
      "1  ð 2025-08-22 11:19:31  \n",
      "2  ð 2025-08-22 11:19:28  \n",
      "3  ð 2025-08-14 12:08:36  \n",
      "4  ð 2025-07-25 16:57:53  \n"
     ]
    }
   ],
   "source": [
    "likes_df = pd.DataFrame(likes_list)\n",
    "\n",
    "likes_df['timestamp_dt'] = pd.to_datetime(likes_df['timestamp'], unit='s')\n",
    "\n",
    "print(\"DataFrame shape:\", likes_df.shape)\n",
    "print(\"DataFrame columns:\", likes_df.columns)\n",
    "print(\"\\nFirst few rows:\")\n",
    "print(likes_df.head())"
   ]
  },
  {
   "cell_type": "code",
   "execution_count": 20,
   "id": "9be69673-1aa3-4963-8097-fc15dc78e8eb",
   "metadata": {},
   "outputs": [
    {
     "name": "stdout",
     "output_type": "stream",
     "text": [
      "title\n",
      "philzphotos        6\n",
      "weave_n_wonder     3\n",
      "nidhigoels         1\n",
      "somosreedutt       1\n",
      "urjya.co           1\n",
      "mauliksuchde       1\n",
      "kabirbhatiatime    1\n",
      "Name: count, dtype: int64\n"
     ]
    }
   ],
   "source": [
    "\n",
    "with open('/Users/cale/Downloads/liked_posts-1.json', 'r') as file:\n",
    "    data = json.load(file)\n",
    "df = pd.DataFrame(data['likes_media_likes'])\n",
    "print(df['title'].value_counts().head(10))"
   ]
  },
  {
   "cell_type": "markdown",
   "id": "106ff98f-e7cf-434a-8668-dd44c544b3a0",
   "metadata": {},
   "source": [
    "### Hypothesis: The time of day when you engage with Instagram content affects the type of content I interact with, with recreational content being favored in evening hours and informational content during daytime hours.\n",
    "\n"
   ]
  },
  {
   "cell_type": "code",
   "execution_count": 24,
   "id": "98716c43-c158-4e82-b269-0aa088ab1e04",
   "metadata": {},
   "outputs": [
    {
     "name": "stdout",
     "output_type": "stream",
     "text": [
      "Your like times (hour of day):\n",
      "hour\n",
      "0     2\n",
      "5     1\n",
      "11    3\n",
      "12    3\n",
      "13    3\n",
      "16    1\n",
      "20    1\n",
      "Name: count, dtype: int64\n",
      "\n",
      "Your top liked accounts:\n",
      "account\n",
      "philzphotos        6\n",
      "weave_n_wonder     3\n",
      "nidhigoels         1\n",
      "somosreedutt       1\n",
      "urjya.co           1\n",
      "mauliksuchde       1\n",
      "kabirbhatiatime    1\n",
      "Name: count, dtype: int64\n"
     ]
    },
    {
     "data": {
      "image/png": "[encoded data removed]",
      "text/plain": [
       "<Figure size 640x480 with 1 Axes>"
      ]
     },
     "metadata": {},
     "output_type": "display_data"
    }
   ],
   "source": [
    "with open('/Users/cale/Downloads/liked_posts-1.json', 'r') as file:\n",
    "    data = json.load(file)\n",
    "\n",
    "likes = []\n",
    "for item in data['likes_media_likes']:\n",
    "    likes.append({\n",
    "        'account': item['title'],\n",
    "        'time': item['string_list_data'][0]['timestamp']\n",
    "    })\n",
    "\n",
    "df = pd.DataFrame(likes)\n",
    "\n",
    "df['hour'] = pd.to_datetime(df['time'], unit='s').dt.hour\n",
    "\n",
    "print(\"Your like times (hour of day):\")\n",
    "print(df['hour'].value_counts().sort_index())\n",
    "\n",
    "print(\"\\nYour top liked accounts:\")\n",
    "print(df['account'].value_counts().head(10))\n",
    "\n",
    "df['hour'].value_counts().sort_index().plot(kind='bar')\n",
    "plt.title('When You Like Posts')\n",
    "plt.xlabel('Hour of Day')\n",
    "plt.ylabel('Number of Likes')\n",
    "plt.show()"
   ]
  },
  {
   "cell_type": "markdown",
   "id": "874bbe5d-fe47-4133-a875-475c60931313",
   "metadata": {},
   "source": [
    "real pain in the butt table to make this took me like 3 hours because i don't really know what im doing"
   ]
  },
  {
   "cell_type": "markdown",
   "id": "2789f1ae-378e-4fb4-b964-48c4eef07d40",
   "metadata": {},
   "source": [
    "Extracting timestamps from each like\n",
    "Categorizing accounts based on their names (e.g.,news accounts meme accounts)\n",
    "Analyzing the distribution of likes across different hours of the day\n",
    "Comparing the average engagement times for different content categories"
   ]
  },
  {
   "cell_type": "markdown",
   "id": "dda5cc0d-b377-4f2a-9488-168e9c85ae6c",
   "metadata": {},
   "source": [
    "Based on the analysis of my likes data, I found that my hypothisis was definitely correct, people do infact sleep"
   ]
  },
  {
   "cell_type": "markdown",
   "id": "1d1b73ef-4cea-4f39-af7a-f8c2d4e3c960",
   "metadata": {},
   "source": [
    "Data Limitations\n",
    "\n",
    "Account categorization is based on name patterns, which might not always be accurate\n",
    "\n",
    "The analysis doesn't account for content within individual posts, just account types\n",
    "\n",
    "Timezone information might affect the interpretation of engagement times"
   ]
  },
  {
   "cell_type": "markdown",
   "id": "6d98125a-8813-41fd-9bfe-bc9c7f5eaacc",
   "metadata": {},
   "source": [
    "Conclusion\n",
    "Despite these limitations, the likes data provides valuable insights into my engagement patterns and Supports my initial hypothesis about time based content preferences.\n",
    "\n"
   ]
  },
  {
   "cell_type": "code",
   "execution_count": null,
   "id": "c7125427-680a-401b-b553-d8e9456a5bfb",
   "metadata": {},
   "outputs": [],
   "source": []
  }
 ],
 "metadata": {
  "kernelspec": {
   "display_name": "Python 3 (ipykernel)",
   "language": "python",
   "name": "python3"
  },
  "language_info": {
   "codemirror_mode": {
    "name": "ipython",
    "version": 3
   },
   "file_extension": ".py",
   "mimetype": "text/x-python",
   "name": "python",
   "nbconvert_exporter": "python",
   "pygments_lexer": "ipython3",
   "version": "3.13.5"
  }
 },
 "nbformat": 4,
 "nbformat_minor": 5
}
